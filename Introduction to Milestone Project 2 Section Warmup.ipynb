{
 "cells": [
  {
   "cell_type": "markdown",
   "source": [
    "Warmup"
   ],
   "metadata": {
    "collapsed": false,
    "pycharm": {
     "name": "#%% md\n"
    }
   }
  },
  {
   "cell_type": "markdown",
   "source": [
    "To warmup for the 2nd Milestone Project we will recreate the card game called 'WAR'\n",
    "Let's have a quick overview of the game at:\n",
    "    wikipedia.org/wiki/War_(card_game)\n",
    "\n",
    "    1) We start with a 52 card deck\n",
    "    2) Split the deck between 2 players\n",
    "    3) Both players grab top card and lay it out\n",
    "        1) Check to see who has a higher card\n",
    "            1) If same card then both players pull 3 cards and repeat until a person beats another with a higher card\n",
    "        2) Winning player takes all cards that are laid out and puts at bottom of his deck\n",
    "        3) Game is over once a player has no cards\n",
    "\n",
    "The 'WAR' process can be repeated in this case of back to back ties\n",
    "To construct this game, we will create:\n",
    "    Card Class\n",
    "    Deck Class\n",
    "    Player Class\n",
    "    Game Logic\n"
   ],
   "metadata": {
    "collapsed": false,
    "pycharm": {
     "name": "#%% md\n"
    }
   }
  }
 ],
 "metadata": {
  "kernelspec": {
   "display_name": "Python 3",
   "language": "python",
   "name": "python3"
  },
  "language_info": {
   "codemirror_mode": {
    "name": "ipython",
    "version": 2
   },
   "file_extension": ".py",
   "mimetype": "text/x-python",
   "name": "python",
   "nbconvert_exporter": "python",
   "pygments_lexer": "ipython2",
   "version": "2.7.6"
  }
 },
 "nbformat": 4,
 "nbformat_minor": 0
}