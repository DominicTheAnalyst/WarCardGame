{
 "cells": [
  {
   "cell_type": "markdown",
   "source": [
    "Player Class\n",
    "    This class will be used to hol a player's current list of cards\n",
    "    A player should be able to add or remove cards from their \"hand\"\n",
    "    The last thing we need to think about is translating a Deck/Hand of cards with a top and bottom, to a Python list"
   ],
   "metadata": {
    "collapsed": false,
    "pycharm": {
     "name": "#%% md\n"
    }
   }
  },
  {
   "cell_type": "code",
   "execution_count": null,
   "outputs": [],
   "source": [
    "class Player:\n",
    "\n",
    "    def __init__(self, name):\n",
    "\n",
    "        self.name = name\n",
    "        self.all_cards = []\n",
    "\n",
    "    def remove_one(self):\n",
    "\n",
    "        return self.all_cards.pop(0)\n",
    "\n",
    "    def add_cards(self, new_cards):\n",
    "\n",
    "        if type(new_cards) == type([]):\n",
    "\n",
    "            #For multiple cards\n",
    "            self.all_cards.extend(new_cards)\n",
    "\n",
    "        else:\n",
    "\n",
    "            #For a single card\n",
    "            self.all_cards.append(new_cards)\n",
    "\n",
    "    def __str__(self):\n",
    "\n",
    "        return f'Player {self.name} has {len(self.all_cards)} cards.'"
   ],
   "metadata": {
    "collapsed": false,
    "pycharm": {
     "name": "#%%\n"
    }
   }
  }
 ],
 "metadata": {
  "kernelspec": {
   "display_name": "Python 3",
   "language": "python",
   "name": "python3"
  },
  "language_info": {
   "codemirror_mode": {
    "name": "ipython",
    "version": 2
   },
   "file_extension": ".py",
   "mimetype": "text/x-python",
   "name": "python",
   "nbconvert_exporter": "python",
   "pygments_lexer": "ipython2",
   "version": "2.7.6"
  }
 },
 "nbformat": 4,
 "nbformat_minor": 0
}