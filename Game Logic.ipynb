{
 "cells": [
  {
   "cell_type": "markdown",
   "source": [
    "Creating the overall logic is often the hardest part of a project like this!\n",
    "It is important to note, that we planned the classes around the upcoming logic, so in a real-world situation, you often think of both the logic and class structures simultaneously\n",
    "\n",
    "Make Deck --> Shuffle Deck --> Split Deck to Players -->Check if a player has lost -->\n",
    "Play game --> Check is war is occurring --> Stay in while till war was over and keep playing while checking for loser\n",
    "\n",
    "3 situations to check a winner card\n",
    "    Player One > Player Two\n",
    "    Player One < Player Two\n",
    "    Player One == Player Two\n",
    "\n",
    "The way we will write this is with an if/elif/else within a while loop that assumes that a \"war\" has happened\n",
    "We will stat at_war = False if the players resolve the match-up on the first drawn card, otherwise we will add cards to the current cards on the table\n",
    "\n",
    "The rules we'll use in this version is if there is a tie, each player needs to draw 5 additional cards\n",
    "We'll also say that a player loses if they don't have at least 5 cards to play the war\n",
    "This logic is easily edited to fit any rule structure you want"
   ],
   "metadata": {
    "collapsed": false,
    "pycharm": {
     "name": "#%% md\n"
    }
   }
  }
 ],
 "metadata": {
  "kernelspec": {
   "display_name": "Python 3",
   "language": "python",
   "name": "python3"
  },
  "language_info": {
   "codemirror_mode": {
    "name": "ipython",
    "version": 2
   },
   "file_extension": ".py",
   "mimetype": "text/x-python",
   "name": "python",
   "nbconvert_exporter": "python",
   "pygments_lexer": "ipython2",
   "version": "2.7.6"
  }
 },
 "nbformat": 4,
 "nbformat_minor": 0
}