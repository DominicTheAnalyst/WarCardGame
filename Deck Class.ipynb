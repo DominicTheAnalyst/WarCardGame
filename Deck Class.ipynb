{
 "cells": [
  {
   "cell_type": "markdown",
   "source": [
    "Deck Class"
   ],
   "metadata": {
    "collapsed": false,
    "pycharm": {
     "name": "#%% md\n"
    }
   }
  },
  {
   "cell_type": "markdown",
   "source": [
    "Initiate a new deck\n",
    "    Create all 52 Card objects\n",
    "    Hold as a list of Card objects\n",
    "Shuffle a Deck through a method call\n",
    "    Random library shuffle() function\n",
    "Deal cards from the Deck object\n",
    "    Pop method from cards list\n",
    "Deck Class\n",
    "    We will see that the Deck class holds a list of Card objects\n",
    "    This means the Deck class will return Card class object instances, not just normal python data types"
   ],
   "metadata": {
    "collapsed": false,
    "pycharm": {
     "name": "#%% md\n"
    }
   }
  },
  {
   "cell_type": "code",
   "execution_count": null,
   "outputs": [],
   "source": [
    "import random\n",
    "\n",
    "\n",
    "class Deck:\n",
    "\n",
    "    def __init__(self):\n",
    "\n",
    "        self.all_cards = []\n",
    "\n",
    "        for suit in suits:\n",
    "\n",
    "            for rank in ranks:\n",
    "\n",
    "                #Create the Card Object\n",
    "                created_card = Card(suit, rank)\n",
    "\n",
    "                self.all_cards.append(created_card)\n",
    "\n",
    "    def shuffle(self):\n",
    "\n",
    "        #Shuffle Deck\n",
    "        random.shuffle(self.all_cards)\n",
    "\n",
    "    def deal_one(self):\n",
    "\n",
    "        return self.all_cards.pop()"
   ],
   "metadata": {
    "collapsed": false,
    "pycharm": {
     "name": "#%%\n"
    }
   }
  }
 ],
 "metadata": {
  "kernelspec": {
   "display_name": "Python 3",
   "language": "python",
   "name": "python3"
  },
  "language_info": {
   "codemirror_mode": {
    "name": "ipython",
    "version": 2
   },
   "file_extension": ".py",
   "mimetype": "text/x-python",
   "name": "python",
   "nbconvert_exporter": "python",
   "pygments_lexer": "ipython2",
   "version": "2.7.6"
  }
 },
 "nbformat": 4,
 "nbformat_minor": 0
}